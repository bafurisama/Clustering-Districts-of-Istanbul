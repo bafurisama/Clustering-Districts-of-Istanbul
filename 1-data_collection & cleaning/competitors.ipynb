{
 "cells": [
  {
   "cell_type": "code",
   "execution_count": 35,
   "id": "38b64808-1a56-4c77-8e58-4cfd47dcf50e",
   "metadata": {},
   "outputs": [],
   "source": [
    "import pandas as pd, numpy as np\n",
    "import requests\n",
    "import json\n",
    "import time\n",
    "import googlemaps\n",
    "import prettyprint\n",
    "from geopy.geocoders import Nominatim # convert an address into latitude and longitude values\n",
    "from bs4 import BeautifulSoup\n",
    "pd.options.display.max_columns = None\n",
    "pd.options.display.max_rows = None"
   ]
  },
  {
   "cell_type": "code",
   "execution_count": 36,
   "id": "c0566a02-8b77-4585-b794-f31d3f3056b7",
   "metadata": {},
   "outputs": [],
   "source": [
    "df = pd.read_csv('datasets/df_venues2022.csv')"
   ]
  },
  {
   "cell_type": "code",
   "execution_count": 37,
   "id": "bf690bee-334e-4afa-92fa-674bb25e9064",
   "metadata": {},
   "outputs": [],
   "source": [
    "df = df.loc[:,['District']] # getting only latitude and longitude"
   ]
  },
  {
   "cell_type": "code",
   "execution_count": 40,
   "id": "3f478ea2-7707-4457-8b7b-3f950cb4e2e3",
   "metadata": {},
   "outputs": [],
   "source": [
    "districts = df.District.values"
   ]
  },
  {
   "cell_type": "code",
   "execution_count": 41,
   "id": "5fb0fbfd-9984-479b-a838-3a96d1de1b96",
   "metadata": {},
   "outputs": [],
   "source": [
    "mc_donalds = [0,0,3,2,2,2,5,0,1,3,1,3,2,1,0,2,0,4,3,4,1,2,10,0,3,1,4,6,0,2,0,0,0,0,7,2,4,5,1]"
   ]
  },
  {
   "cell_type": "code",
   "execution_count": 42,
   "id": "482bd6cd-1769-428e-83b5-a3849340ba53",
   "metadata": {},
   "outputs": [],
   "source": [
    "burger_king =[0,5,8,4,6,8,17,7,5,9,2,4,4,4,0,4,1,6,10,7,3,3,12,6,6,7,7,12,3,7,2,3,2,0,13,4,11,7,2]"
   ]
  },
  {
   "cell_type": "code",
   "execution_count": 43,
   "id": "3103b2b2-3800-41c6-90ab-3b897e3479fa",
   "metadata": {},
   "outputs": [],
   "source": [
    "df_burger_mcdonalds = pd.DataFrame(list(zip(districts,burger_king,mc_donalds)),columns = ['District','Burger King','Mc Donalds'])"
   ]
  },
  {
   "cell_type": "code",
   "execution_count": 46,
   "id": "d51aadc4-6236-4911-b076-0f3dd77714a0",
   "metadata": {
    "tags": []
   },
   "outputs": [
    {
     "data": {
      "text/html": [
       "<div>\n",
       "<style scoped>\n",
       "    .dataframe tbody tr th:only-of-type {\n",
       "        vertical-align: middle;\n",
       "    }\n",
       "\n",
       "    .dataframe tbody tr th {\n",
       "        vertical-align: top;\n",
       "    }\n",
       "\n",
       "    .dataframe thead th {\n",
       "        text-align: right;\n",
       "    }\n",
       "</style>\n",
       "<table border=\"1\" class=\"dataframe\">\n",
       "  <thead>\n",
       "    <tr style=\"text-align: right;\">\n",
       "      <th></th>\n",
       "      <th>District</th>\n",
       "      <th>Burger King</th>\n",
       "      <th>Mc Donalds</th>\n",
       "    </tr>\n",
       "  </thead>\n",
       "  <tbody>\n",
       "    <tr>\n",
       "      <th>0</th>\n",
       "      <td>Adalar</td>\n",
       "      <td>0</td>\n",
       "      <td>0</td>\n",
       "    </tr>\n",
       "    <tr>\n",
       "      <th>1</th>\n",
       "      <td>Arnavutköy</td>\n",
       "      <td>5</td>\n",
       "      <td>0</td>\n",
       "    </tr>\n",
       "    <tr>\n",
       "      <th>2</th>\n",
       "      <td>Ataşehir</td>\n",
       "      <td>8</td>\n",
       "      <td>3</td>\n",
       "    </tr>\n",
       "    <tr>\n",
       "      <th>3</th>\n",
       "      <td>Avcılar</td>\n",
       "      <td>4</td>\n",
       "      <td>2</td>\n",
       "    </tr>\n",
       "    <tr>\n",
       "      <th>4</th>\n",
       "      <td>Bağcılar</td>\n",
       "      <td>6</td>\n",
       "      <td>2</td>\n",
       "    </tr>\n",
       "  </tbody>\n",
       "</table>\n",
       "</div>"
      ],
      "text/plain": [
       "     District  Burger King  Mc Donalds\n",
       "0      Adalar            0           0\n",
       "1  Arnavutköy            5           0\n",
       "2    Ataşehir            8           3\n",
       "3     Avcılar            4           2\n",
       "4    Bağcılar            6           2"
      ]
     },
     "execution_count": 46,
     "metadata": {},
     "output_type": "execute_result"
    }
   ],
   "source": [
    "df_burger_mcdonalds.head()"
   ]
  },
  {
   "cell_type": "markdown",
   "id": "6220dd83-3c35-4f10-ae39-00d5e674e226",
   "metadata": {},
   "source": [
    "### Getting KFC Branches in Istanbul "
   ]
  },
  {
   "cell_type": "code",
   "execution_count": 47,
   "id": "8f99dd4a-77f9-488c-910c-76ef7997b5ff",
   "metadata": {},
   "outputs": [],
   "source": [
    "url = 'https://kfcturkiye.com/restoranlar'"
   ]
  },
  {
   "cell_type": "code",
   "execution_count": 48,
   "id": "da4c5789-5307-4cac-a69a-72f0b410b498",
   "metadata": {},
   "outputs": [],
   "source": [
    "html_text = requests.get(url).content"
   ]
  },
  {
   "cell_type": "code",
   "execution_count": 49,
   "id": "27144497-d850-4acf-8aab-083122d4432a",
   "metadata": {},
   "outputs": [],
   "source": [
    "soup = BeautifulSoup(html_text,'lxml')"
   ]
  },
  {
   "cell_type": "code",
   "execution_count": 50,
   "id": "aaa7ca08-1b00-4c0b-83cd-33c0e313e72d",
   "metadata": {},
   "outputs": [],
   "source": [
    "subeler = soup.find_all('div', attrs={'class':\"text-content\"} )"
   ]
  },
  {
   "cell_type": "code",
   "execution_count": 51,
   "id": "8158b7f7-029e-4636-ac14-0868fcef314a",
   "metadata": {},
   "outputs": [],
   "source": [
    "sube_yeri = []\n",
    "sube_address = []\n",
    "for i in subeler:\n",
    "    sube_yeri.append(i.h3.text)\n",
    "    sube_address.append(i.p.text)"
   ]
  },
  {
   "cell_type": "code",
   "execution_count": 52,
   "id": "570c23f6-38f5-480c-ad70-5ac2ee0a70ef",
   "metadata": {},
   "outputs": [],
   "source": [
    "liste = list(zip(sube_yeri,sube_address))"
   ]
  },
  {
   "cell_type": "code",
   "execution_count": 53,
   "id": "ae4b6787-13e2-423f-99c8-c973aff7f09f",
   "metadata": {},
   "outputs": [],
   "source": [
    "df_kfc = pd.DataFrame(liste,columns = ['Sube_Adi','Address'])"
   ]
  },
  {
   "cell_type": "code",
   "execution_count": 54,
   "id": "13ee86e4-5445-4321-b4a7-96ae59e1678e",
   "metadata": {},
   "outputs": [],
   "source": [
    "df_kfc= df_kfc[df_kfc['Sube_Adi'].str.contains('İstanbul')]"
   ]
  },
  {
   "cell_type": "code",
   "execution_count": 55,
   "id": "5125235e-85b4-4297-bb83-7e678d9ee45c",
   "metadata": {},
   "outputs": [],
   "source": [
    "df_ilce = pd.DataFrame(df_kfc['Address'].str.split(',',expand=True)[1]).rename(columns = {1:'ilce'}) # creating new column using split method"
   ]
  },
  {
   "cell_type": "code",
   "execution_count": 56,
   "id": "e89cb5be-2436-4b03-a2f5-7557c4a87996",
   "metadata": {
    "tags": []
   },
   "outputs": [],
   "source": [
    "df_kfc = pd.concat([df_kfc,df_ilce],axis=1)"
   ]
  },
  {
   "cell_type": "code",
   "execution_count": 57,
   "id": "30053631-188e-489d-9503-28ca255b65dc",
   "metadata": {},
   "outputs": [],
   "source": [
    "df_kfc=df_kfc.reset_index(drop=True)"
   ]
  },
  {
   "cell_type": "code",
   "execution_count": 61,
   "id": "c66e34bd-4b86-4172-9f2d-65078a289de6",
   "metadata": {
    "tags": []
   },
   "outputs": [
    {
     "data": {
      "text/html": [
       "<div>\n",
       "<style scoped>\n",
       "    .dataframe tbody tr th:only-of-type {\n",
       "        vertical-align: middle;\n",
       "    }\n",
       "\n",
       "    .dataframe tbody tr th {\n",
       "        vertical-align: top;\n",
       "    }\n",
       "\n",
       "    .dataframe thead th {\n",
       "        text-align: right;\n",
       "    }\n",
       "</style>\n",
       "<table border=\"1\" class=\"dataframe\">\n",
       "  <thead>\n",
       "    <tr style=\"text-align: right;\">\n",
       "      <th></th>\n",
       "      <th>ilce</th>\n",
       "      <th>KFC</th>\n",
       "    </tr>\n",
       "  </thead>\n",
       "  <tbody>\n",
       "    <tr>\n",
       "      <th>0</th>\n",
       "      <td>Ataşehir</td>\n",
       "      <td>6</td>\n",
       "    </tr>\n",
       "    <tr>\n",
       "      <th>1</th>\n",
       "      <td>Avcılar</td>\n",
       "      <td>2</td>\n",
       "    </tr>\n",
       "    <tr>\n",
       "      <th>2</th>\n",
       "      <td>Bahçelievler</td>\n",
       "      <td>3</td>\n",
       "    </tr>\n",
       "    <tr>\n",
       "      <th>3</th>\n",
       "      <td>Bakırköy</td>\n",
       "      <td>6</td>\n",
       "    </tr>\n",
       "    <tr>\n",
       "      <th>4</th>\n",
       "      <td>Bayrampasa</td>\n",
       "      <td>1</td>\n",
       "    </tr>\n",
       "  </tbody>\n",
       "</table>\n",
       "</div>"
      ],
      "text/plain": [
       "           ilce  KFC\n",
       "0      Ataşehir    6\n",
       "1       Avcılar    2\n",
       "2  Bahçelievler    3\n",
       "3      Bakırköy    6\n",
       "4    Bayrampasa    1"
      ]
     },
     "execution_count": 61,
     "metadata": {},
     "output_type": "execute_result"
    }
   ],
   "source": [
    "df_kfc.head()"
   ]
  },
  {
   "cell_type": "markdown",
   "id": "8782ac14-d827-47df-a1d8-11122c4b40b6",
   "metadata": {},
   "source": [
    "#### Data Cleaning and Preparation for KFC"
   ]
  },
  {
   "cell_type": "code",
   "execution_count": 62,
   "id": "7c8020fb-a705-4bbe-a595-1efa77c21afb",
   "metadata": {
    "tags": []
   },
   "outputs": [
    {
     "ename": "KeyError",
     "evalue": "'Column not found: Sube_Adi'",
     "output_type": "error",
     "traceback": [
      "\u001b[1;31m---------------------------------------------------------------------------\u001b[0m",
      "\u001b[1;31mKeyError\u001b[0m                                  Traceback (most recent call last)",
      "\u001b[1;32m<ipython-input-62-1ca8f538823c>\u001b[0m in \u001b[0;36m<module>\u001b[1;34m\u001b[0m\n\u001b[0;32m      9\u001b[0m \u001b[0mdf_kfc\u001b[0m\u001b[1;33m.\u001b[0m\u001b[0milce\u001b[0m \u001b[1;33m=\u001b[0m \u001b[0mdf_kfc\u001b[0m\u001b[1;33m.\u001b[0m\u001b[0milce\u001b[0m\u001b[1;33m.\u001b[0m\u001b[0mapply\u001b[0m\u001b[1;33m(\u001b[0m\u001b[1;32mlambda\u001b[0m \u001b[0mx\u001b[0m\u001b[1;33m:\u001b[0m \u001b[0mx\u001b[0m\u001b[1;33m.\u001b[0m\u001b[0mstrip\u001b[0m\u001b[1;33m(\u001b[0m\u001b[1;34m' '\u001b[0m\u001b[1;33m)\u001b[0m\u001b[1;33m)\u001b[0m\u001b[1;33m\u001b[0m\u001b[1;33m\u001b[0m\u001b[0m\n\u001b[0;32m     10\u001b[0m \u001b[0mdf_kfc\u001b[0m\u001b[1;33m.\u001b[0m\u001b[0milce\u001b[0m \u001b[1;33m=\u001b[0m \u001b[0mdf_kfc\u001b[0m\u001b[1;33m.\u001b[0m\u001b[0milce\u001b[0m\u001b[1;33m.\u001b[0m\u001b[0mapply\u001b[0m\u001b[1;33m(\u001b[0m\u001b[1;32mlambda\u001b[0m \u001b[0mx\u001b[0m \u001b[1;33m:\u001b[0m \u001b[0mx\u001b[0m\u001b[1;33m.\u001b[0m\u001b[0mreplace\u001b[0m\u001b[1;33m(\u001b[0m\u001b[1;34m'Eyüpsultan'\u001b[0m\u001b[1;33m,\u001b[0m\u001b[1;34m'Eyüp'\u001b[0m\u001b[1;33m)\u001b[0m\u001b[1;33m)\u001b[0m\u001b[1;33m\u001b[0m\u001b[1;33m\u001b[0m\u001b[0m\n\u001b[1;32m---> 11\u001b[1;33m \u001b[0mdf_kfc\u001b[0m\u001b[1;33m=\u001b[0m \u001b[0mdf_kfc\u001b[0m\u001b[1;33m.\u001b[0m\u001b[0mgroupby\u001b[0m\u001b[1;33m(\u001b[0m\u001b[1;34m'ilce'\u001b[0m\u001b[1;33m)\u001b[0m\u001b[1;33m[\u001b[0m\u001b[1;34m'Sube_Adi'\u001b[0m\u001b[1;33m]\u001b[0m\u001b[1;33m.\u001b[0m\u001b[0mcount\u001b[0m\u001b[1;33m(\u001b[0m\u001b[1;33m)\u001b[0m\u001b[1;33m.\u001b[0m\u001b[0mto_frame\u001b[0m\u001b[1;33m(\u001b[0m\u001b[1;33m)\u001b[0m\u001b[1;33m.\u001b[0m\u001b[0mreset_index\u001b[0m\u001b[1;33m(\u001b[0m\u001b[1;33m)\u001b[0m\u001b[1;33m.\u001b[0m\u001b[0mrename\u001b[0m\u001b[1;33m(\u001b[0m\u001b[0mcolumns\u001b[0m \u001b[1;33m=\u001b[0m \u001b[1;33m{\u001b[0m\u001b[1;34m'Sube_Adi'\u001b[0m\u001b[1;33m:\u001b[0m\u001b[1;34m'KFC'\u001b[0m\u001b[1;33m}\u001b[0m\u001b[1;33m)\u001b[0m\u001b[1;33m\u001b[0m\u001b[1;33m\u001b[0m\u001b[0m\n\u001b[0m",
      "\u001b[1;32m~\\anaconda3\\lib\\site-packages\\pandas\\core\\groupby\\generic.py\u001b[0m in \u001b[0;36m__getitem__\u001b[1;34m(self, key)\u001b[0m\n\u001b[0;32m   1540\u001b[0m                 \u001b[0mstacklevel\u001b[0m\u001b[1;33m=\u001b[0m\u001b[1;36m2\u001b[0m\u001b[1;33m,\u001b[0m\u001b[1;33m\u001b[0m\u001b[1;33m\u001b[0m\u001b[0m\n\u001b[0;32m   1541\u001b[0m             )\n\u001b[1;32m-> 1542\u001b[1;33m         \u001b[1;32mreturn\u001b[0m \u001b[0msuper\u001b[0m\u001b[1;33m(\u001b[0m\u001b[1;33m)\u001b[0m\u001b[1;33m.\u001b[0m\u001b[0m__getitem__\u001b[0m\u001b[1;33m(\u001b[0m\u001b[0mkey\u001b[0m\u001b[1;33m)\u001b[0m\u001b[1;33m\u001b[0m\u001b[1;33m\u001b[0m\u001b[0m\n\u001b[0m\u001b[0;32m   1543\u001b[0m \u001b[1;33m\u001b[0m\u001b[0m\n\u001b[0;32m   1544\u001b[0m     \u001b[1;32mdef\u001b[0m \u001b[0m_gotitem\u001b[0m\u001b[1;33m(\u001b[0m\u001b[0mself\u001b[0m\u001b[1;33m,\u001b[0m \u001b[0mkey\u001b[0m\u001b[1;33m,\u001b[0m \u001b[0mndim\u001b[0m\u001b[1;33m:\u001b[0m \u001b[0mint\u001b[0m\u001b[1;33m,\u001b[0m \u001b[0msubset\u001b[0m\u001b[1;33m=\u001b[0m\u001b[1;32mNone\u001b[0m\u001b[1;33m)\u001b[0m\u001b[1;33m:\u001b[0m\u001b[1;33m\u001b[0m\u001b[1;33m\u001b[0m\u001b[0m\n",
      "\u001b[1;32m~\\anaconda3\\lib\\site-packages\\pandas\\core\\base.py\u001b[0m in \u001b[0;36m__getitem__\u001b[1;34m(self, key)\u001b[0m\n\u001b[0;32m    278\u001b[0m             \u001b[1;31m# error: \"SelectionMixin\" has no attribute \"obj\"  [attr-defined]\u001b[0m\u001b[1;33m\u001b[0m\u001b[1;33m\u001b[0m\u001b[1;33m\u001b[0m\u001b[0m\n\u001b[0;32m    279\u001b[0m             \u001b[1;32mif\u001b[0m \u001b[0mkey\u001b[0m \u001b[1;32mnot\u001b[0m \u001b[1;32min\u001b[0m \u001b[0mself\u001b[0m\u001b[1;33m.\u001b[0m\u001b[0mobj\u001b[0m\u001b[1;33m:\u001b[0m  \u001b[1;31m# type: ignore[attr-defined]\u001b[0m\u001b[1;33m\u001b[0m\u001b[1;33m\u001b[0m\u001b[0m\n\u001b[1;32m--> 280\u001b[1;33m                 \u001b[1;32mraise\u001b[0m \u001b[0mKeyError\u001b[0m\u001b[1;33m(\u001b[0m\u001b[1;34mf\"Column not found: {key}\"\u001b[0m\u001b[1;33m)\u001b[0m\u001b[1;33m\u001b[0m\u001b[1;33m\u001b[0m\u001b[0m\n\u001b[0m\u001b[0;32m    281\u001b[0m             \u001b[1;32mreturn\u001b[0m \u001b[0mself\u001b[0m\u001b[1;33m.\u001b[0m\u001b[0m_gotitem\u001b[0m\u001b[1;33m(\u001b[0m\u001b[0mkey\u001b[0m\u001b[1;33m,\u001b[0m \u001b[0mndim\u001b[0m\u001b[1;33m=\u001b[0m\u001b[1;36m1\u001b[0m\u001b[1;33m)\u001b[0m\u001b[1;33m\u001b[0m\u001b[1;33m\u001b[0m\u001b[0m\n\u001b[0;32m    282\u001b[0m \u001b[1;33m\u001b[0m\u001b[0m\n",
      "\u001b[1;31mKeyError\u001b[0m: 'Column not found: Sube_Adi'"
     ]
    }
   ],
   "source": [
    "df_kfc.loc[15,'ilce'] = 'Bayrampasa'\n",
    "df_kfc.loc[43,'ilce'] = 'Kağıthane'\n",
    "df_kfc.loc[76,'ilce']= 'Kadıköy'\n",
    "df_kfc.loc[87,'ilce'] = 'Eyüp'\n",
    "df_kfc.loc[31,'ilce'] = 'Bakırköy'\n",
    "df_kfc.loc[79,'ilce'] = 'Sultangazi'\n",
    "df_kfc.loc[28,'ilce'] = 'Beylikdüzü'\n",
    "df_kfc.loc[30,'ilce'] = 'Eyüp'\n",
    "df_kfc.ilce = df_kfc.ilce.apply(lambda x: x.strip(' '))\n",
    "df_kfc.ilce = df_kfc.ilce.apply(lambda x : x.replace('Eyüpsultan','Eyüp'))\n",
    "df_kfc= df_kfc.groupby('ilce')['Sube_Adi'].count().to_frame().reset_index().rename(columns = {'Sube_Adi':'KFC'})"
   ]
  },
  {
   "cell_type": "code",
   "execution_count": 63,
   "id": "d9c64bf2-92a3-4d6b-a4d1-cdda3fa98605",
   "metadata": {},
   "outputs": [],
   "source": [
    "df_new = pd.merge(df_burger_mcdonalds,df_kfc,how='left',left_on='District',right_on='ilce')\n",
    "df_new.KFC = df_new.KFC.fillna(0)\n",
    "df_new = df_new.drop('ilce',axis=1)\n",
    "df_new.KFC= df_new.KFC.astype('int')"
   ]
  },
  {
   "cell_type": "code",
   "execution_count": 65,
   "id": "63bc12cf-a7fe-465b-ace5-6c6815f6f450",
   "metadata": {},
   "outputs": [],
   "source": [
    "df_new.to_csv('competitors.csv',index=False)"
   ]
  },
  {
   "cell_type": "code",
   "execution_count": null,
   "id": "dfb3fcc7-a97e-49da-a932-86429515b795",
   "metadata": {},
   "outputs": [],
   "source": []
  }
 ],
 "metadata": {
  "kernelspec": {
   "display_name": "Python 3",
   "language": "python",
   "name": "python3"
  },
  "language_info": {
   "codemirror_mode": {
    "name": "ipython",
    "version": 3
   },
   "file_extension": ".py",
   "mimetype": "text/x-python",
   "name": "python",
   "nbconvert_exporter": "python",
   "pygments_lexer": "ipython3",
   "version": "3.8.8"
  }
 },
 "nbformat": 4,
 "nbformat_minor": 5
}
